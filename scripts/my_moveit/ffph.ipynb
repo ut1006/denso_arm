{
 "cells": [
  {
   "cell_type": "code",
   "execution_count": 1,
   "id": "e27e37bd",
   "metadata": {},
   "outputs": [],
   "source": [
    "def draw_registration_result_original_color(source, target, transformation):\n",
    "    source_temp = copy.deepcopy(source)\n",
    "    source_temp.transform(transformation)\n",
    "    o3d.visualization.draw_geometries([source_temp, target],\n",
    "                                      zoom=0.5,\n",
    "                                      front=[-0.2458, -0.8088, 0.5342],\n",
    "                                      lookat=[1.7745, 2.2305, 0.9787],\n",
    "                                      up=[0.3109, -0.5878, -0.7468])\n",
    "\n"
   ]
  },
  {
   "cell_type": "code",
   "execution_count": 10,
   "id": "445db34b",
   "metadata": {},
   "outputs": [
    {
     "name": "stdout",
     "output_type": "stream",
     "text": [
      "1. Load two point clouds and show initial pose\n"
     ]
    }
   ],
   "source": [
    "import open3d as o3d\n",
    "import copy\n",
    "import numpy as np\n",
    "print(\"1. Load two point clouds and show initial pose\")\n",
    "demo_colored_icp_pcds = o3d.data.DemoColoredICPPointClouds()\n",
    "source = o3d.io.read_point_cloud(\"0005_norm.ply\")\n",
    "target = o3d.io.read_point_cloud(\"0006_norm.ply\")\n",
    "\n",
    "# draw initial alignment\n",
    "current_transformation = np.identity(4)\n",
    "draw_registration_result_original_color(source, target, current_transformation)"
   ]
  },
  {
   "cell_type": "code",
   "execution_count": 4,
   "id": "5df9647b",
   "metadata": {},
   "outputs": [
    {
     "name": "stdout",
     "output_type": "stream",
     "text": [
      "0001_norm.ply         \u001b[0m\u001b[01;32mcap_and_gen_ply.sh\u001b[0m*  icp.py             \u001b[01;34mRAFT-Stereo\u001b[0m/\n",
      "0001_transformed.ply  ffph.ipynb           keyboard.py        save_img_tf.py\n",
      "0003_norm.ply         filter_green.py      monitor_tf.py      tf_ply2.py\n",
      "0003_transformed.ply  fpfh.py              normal_compute.py  tf_ply.py\n",
      "0005_norm.ply         gen_pcd.py           \u001b[01;34mold\u001b[0m/               viz_ply.py\n",
      "0006_norm.ply         \u001b[01;32mgit.sh\u001b[0m*              \u001b[01;34moutput\u001b[0m/\n"
     ]
    }
   ],
   "source": [
    "ls"
   ]
  },
  {
   "cell_type": "code",
   "execution_count": 2,
   "id": "eee31f7b",
   "metadata": {
    "scrolled": true
   },
   "outputs": [
    {
     "name": "stdout",
     "output_type": "stream",
     "text": [
      "Defaulting to user installation because normal site-packages is not writeable\n",
      "Requirement already satisfied: open3d in /home/kamadagpu/.local/lib/python3.8/site-packages (0.18.0)\n",
      "Requirement already satisfied: numpy>=1.18.0 in /home/kamadagpu/.local/lib/python3.8/site-packages (from open3d) (1.24.4)\n",
      "Requirement already satisfied: dash>=2.6.0 in /home/kamadagpu/.local/lib/python3.8/site-packages (from open3d) (2.17.0)\n",
      "Requirement already satisfied: werkzeug>=2.2.3 in /home/kamadagpu/.local/lib/python3.8/site-packages (from open3d) (3.0.3)\n",
      "Requirement already satisfied: nbformat>=5.7.0 in /home/kamadagpu/.local/lib/python3.8/site-packages (from open3d) (5.10.4)\n",
      "Requirement already satisfied: configargparse in /home/kamadagpu/.local/lib/python3.8/site-packages (from open3d) (1.7)\n",
      "Requirement already satisfied: Flask<3.1,>=1.0.4 in /home/kamadagpu/.local/lib/python3.8/site-packages (from dash>=2.6.0->open3d) (3.0.3)\n",
      "Requirement already satisfied: plotly>=5.0.0 in /home/kamadagpu/.local/lib/python3.8/site-packages (from dash>=2.6.0->open3d) (5.22.0)\n",
      "Requirement already satisfied: dash-html-components==2.0.0 in /home/kamadagpu/.local/lib/python3.8/site-packages (from dash>=2.6.0->open3d) (2.0.0)\n",
      "Requirement already satisfied: dash-core-components==2.0.0 in /home/kamadagpu/.local/lib/python3.8/site-packages (from dash>=2.6.0->open3d) (2.0.0)\n",
      "Requirement already satisfied: dash-table==5.0.0 in /home/kamadagpu/.local/lib/python3.8/site-packages (from dash>=2.6.0->open3d) (5.0.0)\n",
      "Requirement already satisfied: importlib-metadata in /home/kamadagpu/.local/lib/python3.8/site-packages (from dash>=2.6.0->open3d) (7.1.0)\n",
      "Requirement already satisfied: typing-extensions>=4.1.1 in /home/kamadagpu/.local/lib/python3.8/site-packages (from dash>=2.6.0->open3d) (4.11.0)\n",
      "Requirement already satisfied: requests in /home/kamadagpu/.local/lib/python3.8/site-packages (from dash>=2.6.0->open3d) (2.31.0)\n",
      "Requirement already satisfied: retrying in /home/kamadagpu/.local/lib/python3.8/site-packages (from dash>=2.6.0->open3d) (1.3.4)\n",
      "Requirement already satisfied: nest-asyncio in /home/kamadagpu/.local/lib/python3.8/site-packages (from dash>=2.6.0->open3d) (1.6.0)\n",
      "Requirement already satisfied: setuptools in /home/kamadagpu/.local/lib/python3.8/site-packages (from dash>=2.6.0->open3d) (69.5.1)\n",
      "Requirement already satisfied: fastjsonschema>=2.15 in /home/kamadagpu/.local/lib/python3.8/site-packages (from nbformat>=5.7.0->open3d) (2.19.1)\n",
      "Requirement already satisfied: jsonschema>=2.6 in /home/kamadagpu/.local/lib/python3.8/site-packages (from nbformat>=5.7.0->open3d) (4.23.0)\n",
      "Requirement already satisfied: jupyter-core!=5.0.*,>=4.12 in /home/kamadagpu/.local/lib/python3.8/site-packages (from nbformat>=5.7.0->open3d) (5.7.2)\n",
      "Requirement already satisfied: traitlets>=5.1 in /home/kamadagpu/.local/lib/python3.8/site-packages (from nbformat>=5.7.0->open3d) (5.14.3)\n",
      "Requirement already satisfied: MarkupSafe>=2.1.1 in /home/kamadagpu/.local/lib/python3.8/site-packages (from werkzeug>=2.2.3->open3d) (2.1.5)\n",
      "Requirement already satisfied: Jinja2>=3.1.2 in /home/kamadagpu/.local/lib/python3.8/site-packages (from Flask<3.1,>=1.0.4->dash>=2.6.0->open3d) (3.1.3)\n",
      "Requirement already satisfied: itsdangerous>=2.1.2 in /home/kamadagpu/.local/lib/python3.8/site-packages (from Flask<3.1,>=1.0.4->dash>=2.6.0->open3d) (2.2.0)\n",
      "Requirement already satisfied: click>=8.1.3 in /home/kamadagpu/.local/lib/python3.8/site-packages (from Flask<3.1,>=1.0.4->dash>=2.6.0->open3d) (8.1.7)\n",
      "Requirement already satisfied: blinker>=1.6.2 in /home/kamadagpu/.local/lib/python3.8/site-packages (from Flask<3.1,>=1.0.4->dash>=2.6.0->open3d) (1.8.2)\n",
      "Requirement already satisfied: zipp>=0.5 in /home/kamadagpu/.local/lib/python3.8/site-packages (from importlib-metadata->dash>=2.6.0->open3d) (3.18.1)\n",
      "Requirement already satisfied: attrs>=22.2.0 in /home/kamadagpu/.local/lib/python3.8/site-packages (from jsonschema>=2.6->nbformat>=5.7.0->open3d) (23.2.0)\n",
      "Requirement already satisfied: importlib-resources>=1.4.0 in /home/kamadagpu/.local/lib/python3.8/site-packages (from jsonschema>=2.6->nbformat>=5.7.0->open3d) (6.4.0)\n",
      "Requirement already satisfied: jsonschema-specifications>=2023.03.6 in /home/kamadagpu/.local/lib/python3.8/site-packages (from jsonschema>=2.6->nbformat>=5.7.0->open3d) (2023.12.1)\n",
      "Requirement already satisfied: pkgutil-resolve-name>=1.3.10 in /home/kamadagpu/.local/lib/python3.8/site-packages (from jsonschema>=2.6->nbformat>=5.7.0->open3d) (1.3.10)\n",
      "Requirement already satisfied: referencing>=0.28.4 in /home/kamadagpu/.local/lib/python3.8/site-packages (from jsonschema>=2.6->nbformat>=5.7.0->open3d) (0.35.1)\n",
      "Requirement already satisfied: rpds-py>=0.7.1 in /home/kamadagpu/.local/lib/python3.8/site-packages (from jsonschema>=2.6->nbformat>=5.7.0->open3d) (0.18.1)\n",
      "Requirement already satisfied: platformdirs>=2.5 in /home/kamadagpu/.local/lib/python3.8/site-packages (from jupyter-core!=5.0.*,>=4.12->nbformat>=5.7.0->open3d) (4.2.2)\n",
      "Requirement already satisfied: tenacity>=6.2.0 in /home/kamadagpu/.local/lib/python3.8/site-packages (from plotly>=5.0.0->dash>=2.6.0->open3d) (8.3.0)\n",
      "Requirement already satisfied: packaging in /home/kamadagpu/.local/lib/python3.8/site-packages (from plotly>=5.0.0->dash>=2.6.0->open3d) (24.0)\n",
      "Requirement already satisfied: charset-normalizer<4,>=2 in /home/kamadagpu/.local/lib/python3.8/site-packages (from requests->dash>=2.6.0->open3d) (3.3.2)\n",
      "Requirement already satisfied: idna<4,>=2.5 in /usr/lib/python3/dist-packages (from requests->dash>=2.6.0->open3d) (2.8)\n",
      "Requirement already satisfied: urllib3<3,>=1.21.1 in /usr/local/lib/python3.8/dist-packages (from requests->dash>=2.6.0->open3d) (2.2.1)\n",
      "Requirement already satisfied: certifi>=2017.4.17 in /usr/lib/python3/dist-packages (from requests->dash>=2.6.0->open3d) (2019.11.28)\n",
      "Requirement already satisfied: six>=1.7.0 in /usr/lib/python3/dist-packages (from retrying->dash>=2.6.0->open3d) (1.14.0)\n",
      "Note: you may need to restart the kernel to use updated packages.\n"
     ]
    }
   ],
   "source": [
    "pip install open3d"
   ]
  },
  {
   "cell_type": "code",
   "execution_count": 6,
   "id": "e070d28d",
   "metadata": {},
   "outputs": [
    {
     "name": "stdout",
     "output_type": "stream",
     "text": [
      "2. Point-to-point ICP registration is applied on original point\n",
      "   clouds to refine the alignment. Distance threshold 0.2.\n",
      "RegistrationResult with fitness=1.000000e+00, inlier_rmse=5.778618e-16, and correspondence_set size of 336004\n",
      "Access transformation to get result.\n"
     ]
    }
   ],
   "source": [
    "# point to point ICP\n",
    "current_transformation = np.identity(4)\n",
    "print(\"2. Point-to-point ICP registration is applied on original point\")\n",
    "print(\"   clouds to refine the alignment. Distance threshold 0.2.\")\n",
    "result_icp = o3d.pipelines.registration.registration_icp(\n",
    "    source, target, 0.2, current_transformation,\n",
    "    o3d.pipelines.registration.TransformationEstimationPointToPoint())\n",
    "print(result_icp)\n",
    "draw_registration_result_original_color(source, target,\n",
    "                                        result_icp.transformation)\n",
    "\n"
   ]
  },
  {
   "cell_type": "code",
   "execution_count": 32,
   "id": "3f08b48a",
   "metadata": {},
   "outputs": [
    {
     "name": "stdout",
     "output_type": "stream",
     "text": [
      "3. Colored point cloud registration\n",
      "[500, 0.04, 0]\n",
      "3-1. Downsample with a voxel size 0.04\n",
      "3-2. Estimate normal.\n",
      "3-3. Applying colored point cloud registration\n",
      "RegistrationResult with fitness=4.556241e-01, inlier_rmse=2.380102e-02, and correspondence_set size of 960\n",
      "Access transformation to get result.\n",
      "[30, 0.02, 1]\n",
      "3-1. Downsample with a voxel size 0.02\n",
      "3-2. Estimate normal.\n",
      "3-3. Applying colored point cloud registration\n",
      "RegistrationResult with fitness=2.988739e-01, inlier_rmse=1.237456e-02, and correspondence_set size of 1911\n",
      "Access transformation to get result.\n",
      "[14, 0.01, 2]\n",
      "3-1. Downsample with a voxel size 0.01\n",
      "3-2. Estimate normal.\n",
      "3-3. Applying colored point cloud registration\n",
      "RegistrationResult with fitness=1.712280e-01, inlier_rmse=6.317223e-03, and correspondence_set size of 3366\n",
      "Access transformation to get result.\n"
     ]
    }
   ],
   "source": [
    "# colored pointcloud registration\n",
    "# This is implementation of following paper\n",
    "# J. Park, Q.-Y. Zhou, V. Koltun,\n",
    "# Colored Point Cloud Registration Revisited, ICCV 2017\n",
    "voxel_radius = [0.04, 0.02, 0.01]\n",
    "max_iter = [500, 30, 14]\n",
    "current_transformation = np.identity(4)\n",
    "print(\"3. Colored point cloud registration\")\n",
    "for scale in range(3):\n",
    "    iter = max_iter[scale]\n",
    "    radius = voxel_radius[scale]\n",
    "    print([iter, radius, scale])\n",
    "\n",
    "    print(\"3-1. Downsample with a voxel size %.2f\" % radius)\n",
    "    source_down = source.voxel_down_sample(radius)\n",
    "    target_down = target.voxel_down_sample(radius)\n",
    "\n",
    "    print(\"3-2. Estimate normal.\")\n",
    "    source_down.estimate_normals(\n",
    "        o3d.geometry.KDTreeSearchParamHybrid(radius=radius * 2, max_nn=30))\n",
    "    target_down.estimate_normals(\n",
    "        o3d.geometry.KDTreeSearchParamHybrid(radius=radius * 2, max_nn=30))\n",
    "\n",
    "    print(\"3-3. Applying colored point cloud registration\")\n",
    "    result_icp = o3d.pipelines.registration.registration_colored_icp(\n",
    "        source_down, target_down, radius, current_transformation,\n",
    "        o3d.pipelines.registration.TransformationEstimationForColoredICP(),\n",
    "        o3d.pipelines.registration.ICPConvergenceCriteria(relative_fitness=1e-6,\n",
    "                                                          relative_rmse=1e-6,\n",
    "                                                          max_iteration=iter))\n",
    "    current_transformation = result_icp.transformation\n",
    "    print(result_icp)\n",
    "draw_registration_result_original_color(source, target,\n",
    "                                        result_icp.transformation)"
   ]
  }
 ],
 "metadata": {
  "kernelspec": {
   "display_name": "Python 3 (ipykernel)",
   "language": "python",
   "name": "python3"
  },
  "language_info": {
   "codemirror_mode": {
    "name": "ipython",
    "version": 3
   },
   "file_extension": ".py",
   "mimetype": "text/x-python",
   "name": "python",
   "nbconvert_exporter": "python",
   "pygments_lexer": "ipython3",
   "version": "3.8.10"
  }
 },
 "nbformat": 4,
 "nbformat_minor": 5
}
